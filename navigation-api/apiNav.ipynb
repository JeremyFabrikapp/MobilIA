{
 "cells": [
  {
   "cell_type": "code",
   "id": "initial_id",
   "metadata": {
    "collapsed": true,
    "ExecuteTime": {
     "end_time": "2024-11-21T13:53:10.511751Z",
     "start_time": "2024-11-21T13:53:10.203754Z"
    }
   },
   "source": [
    "from requests.auth import HTTPBasicAuth\n",
    "import requests\n",
    "import json\n",
    "import pandas as pd"
   ],
   "outputs": [],
   "execution_count": 1
  },
  {
   "metadata": {
    "ExecuteTime": {
     "end_time": "2024-11-21T16:28:36.377454Z",
     "start_time": "2024-11-21T16:28:36.374651Z"
    }
   },
   "cell_type": "code",
   "source": [
    "# API key\n",
    "TOKEN = 'XDJujSkUHlvvCOirYONTwk9953G7thie'\n",
    "\n",
    "# Affectation des coordonnées au départ et à l'arrivée\n",
    "dlong = \"2.357795224218518\"\n",
    "dlat = \"48.881422645383765\"\n",
    "along = \"2.2858484602361986\"\n",
    "alat = \"48.846779058452746\"\n",
    "\n",
    "with_wheelchair = True\n",
    "\n",
    "# Date et heure du trajet\n",
    "jour = \"20241121T150000\""
   ],
   "id": "40a57bd72f565bc3",
   "outputs": [],
   "execution_count": 36
  },
  {
   "metadata": {
    "ExecuteTime": {
     "end_time": "2024-11-21T16:28:38.242381Z",
     "start_time": "2024-11-21T16:28:38.238471Z"
    }
   },
   "cell_type": "code",
   "source": [
    "# URL de l'API\n",
    "destination = (dlong + \"%3B%20\" + dlat + \"&to=\" + along + \"%3B%20\" + alat + \"&datetime=\" + jour +\n",
    "               ('&wheelchair=true&max_duration_to_pt=300&data_freshness=realtime' if with_wheelchair else '&data_freshness=realtime'))\n",
    "url = 'https://prim.iledefrance-mobilites.fr/marketplace/v2/navitia/journeys?from=' + destination\n",
    "\n",
    "# Le header doit contenir la clé API : apikey, remplacer #VOTRE CLE API par votre clé API\n",
    "headers = {'Accept': 'application/json', 'apikey': TOKEN}"
   ],
   "id": "9b379562c1b40c66",
   "outputs": [],
   "execution_count": 37
  },
  {
   "metadata": {
    "ExecuteTime": {
     "end_time": "2024-11-21T16:28:46.597630Z",
     "start_time": "2024-11-21T16:28:40.019174Z"
    }
   },
   "cell_type": "code",
   "source": [
    "# Envoi de la requête au serveur\n",
    "req = requests.get(url, headers=headers)\n",
    "print('Status:', req)"
   ],
   "id": "4bac953ac76f4516",
   "outputs": [
    {
     "name": "stdout",
     "output_type": "stream",
     "text": [
      "Status: <Response [200]>\n"
     ]
    }
   ],
   "execution_count": 38
  },
  {
   "metadata": {
    "ExecuteTime": {
     "end_time": "2024-11-21T16:28:47.457568Z",
     "start_time": "2024-11-21T16:28:47.432110Z"
    }
   },
   "cell_type": "code",
   "source": [
    "with open('response.json', 'w') as response:\n",
    "    json.dump(req.json(), response, indent=4)"
   ],
   "id": "1d61be07888138",
   "outputs": [],
   "execution_count": 39
  },
  {
   "metadata": {
    "ExecuteTime": {
     "end_time": "2024-11-21T14:42:55.895065Z",
     "start_time": "2024-11-21T14:42:55.855529Z"
    }
   },
   "cell_type": "code",
   "source": [
    "# Lecture du json\n",
    "data_json = req.json()\n",
    "# data = pd.json_normalize(req.json())\n",
    "\n",
    "# Les différents trajets retournés sont dans data['journeys'][0]\n",
    "print(data_json['journeys'][0]['distances'])"
   ],
   "id": "fde473f454610415",
   "outputs": [
    {
     "name": "stdout",
     "output_type": "stream",
     "text": [
      "{'walking': 419, 'bike': 0, 'car': 0, 'ridesharing': 0, 'taxi': 0}\n"
     ]
    }
   ],
   "execution_count": 25
  },
  {
   "metadata": {
    "ExecuteTime": {
     "end_time": "2024-11-21T14:50:52.979178Z",
     "start_time": "2024-11-21T14:50:52.972668Z"
    }
   },
   "cell_type": "code",
   "source": [
    "journeys = list()\n",
    "\n",
    "labels = ['walking_distance']\n",
    "\n",
    "for journey in data_json['journeys']:\n",
    "    infos = list()\n",
    "    infos.append(journey['distances']['walking'])\n",
    "    journeys.append(infos)\n",
    "    \n",
    "df_journeys = pd.DataFrame(journeys, columns=labels)\n",
    "df_journeys"
   ],
   "id": "88f84b5c9e0f571b",
   "outputs": [
    {
     "data": {
      "text/plain": [
       "    walking_distance\n",
       "0                419\n",
       "1                395\n",
       "2                157\n",
       "3               1157\n",
       "4                572\n",
       "5                157\n",
       "6                275\n",
       "7                177\n",
       "8                201\n",
       "9                428\n",
       "10              4989"
      ],
      "text/html": [
       "<div>\n",
       "<style scoped>\n",
       "    .dataframe tbody tr th:only-of-type {\n",
       "        vertical-align: middle;\n",
       "    }\n",
       "\n",
       "    .dataframe tbody tr th {\n",
       "        vertical-align: top;\n",
       "    }\n",
       "\n",
       "    .dataframe thead th {\n",
       "        text-align: right;\n",
       "    }\n",
       "</style>\n",
       "<table border=\"1\" class=\"dataframe\">\n",
       "  <thead>\n",
       "    <tr style=\"text-align: right;\">\n",
       "      <th></th>\n",
       "      <th>walking_distance</th>\n",
       "    </tr>\n",
       "  </thead>\n",
       "  <tbody>\n",
       "    <tr>\n",
       "      <th>0</th>\n",
       "      <td>419</td>\n",
       "    </tr>\n",
       "    <tr>\n",
       "      <th>1</th>\n",
       "      <td>395</td>\n",
       "    </tr>\n",
       "    <tr>\n",
       "      <th>2</th>\n",
       "      <td>157</td>\n",
       "    </tr>\n",
       "    <tr>\n",
       "      <th>3</th>\n",
       "      <td>1157</td>\n",
       "    </tr>\n",
       "    <tr>\n",
       "      <th>4</th>\n",
       "      <td>572</td>\n",
       "    </tr>\n",
       "    <tr>\n",
       "      <th>5</th>\n",
       "      <td>157</td>\n",
       "    </tr>\n",
       "    <tr>\n",
       "      <th>6</th>\n",
       "      <td>275</td>\n",
       "    </tr>\n",
       "    <tr>\n",
       "      <th>7</th>\n",
       "      <td>177</td>\n",
       "    </tr>\n",
       "    <tr>\n",
       "      <th>8</th>\n",
       "      <td>201</td>\n",
       "    </tr>\n",
       "    <tr>\n",
       "      <th>9</th>\n",
       "      <td>428</td>\n",
       "    </tr>\n",
       "    <tr>\n",
       "      <th>10</th>\n",
       "      <td>4989</td>\n",
       "    </tr>\n",
       "  </tbody>\n",
       "</table>\n",
       "</div>"
      ]
     },
     "execution_count": 26,
     "metadata": {},
     "output_type": "execute_result"
    }
   ],
   "execution_count": 26
  }
 ],
 "metadata": {
  "kernelspec": {
   "display_name": "Python 3",
   "language": "python",
   "name": "python3"
  },
  "language_info": {
   "codemirror_mode": {
    "name": "ipython",
    "version": 2
   },
   "file_extension": ".py",
   "mimetype": "text/x-python",
   "name": "python",
   "nbconvert_exporter": "python",
   "pygments_lexer": "ipython2",
   "version": "2.7.6"
  }
 },
 "nbformat": 4,
 "nbformat_minor": 5
}
